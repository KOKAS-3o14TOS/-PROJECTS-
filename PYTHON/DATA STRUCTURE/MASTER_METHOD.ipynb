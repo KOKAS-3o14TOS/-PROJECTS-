{
 "cells": [
  {
   "cell_type": "markdown",
   "metadata": {},
   "source": [
    "\n",
    "# T(n) = 7T(n/2) + O(n^2)\n",
    "Recurrent equetion \n",
    "\n"
   ]
  },
  {
   "cell_type": "markdown",
   "metadata": {},
   "source": [
    "# Master Method\n",
    "\n",
    "\n",
    "if a > bk, then T(n) = θ(nlogba)\n",
    "\n",
    "if a = bk, then \n",
    "(a) if p > -1, then T(n) = θ(nlogba logp+1n) \n",
    "(b) if p = -1, then T(n) = θ(nlogba loglogn) \n",
    "(c) if p < -1, then T(n) = θ(nlogba) \n",
    " \n",
    "if a < bk, then \n",
    "(a) if p >= 0, then T(n) = θ(nk logpn) \n",
    "(b) if p < 0, then T(n) = θ(nk) \n",
    "\n",
    "## -T(n) = 9T(n/3) + n\n",
    "a = 9 , b = 3\n",
    "O(n) → n \n",
    "n^log_3_9  → n^2 \n",
    "\n",
    "Caso 1\n",
    "n^(2-1) → n \n",
    "o(n^2)\n",
    "\n",
    "\n",
    "\n",
    "\n",
    "# -T(n) = T(2n/3) + 1\n",
    "a = 1, b = 3/2 \n",
    "O(1) → 1\n",
    "n^log_3/2_1 → 0  \n",
    "\n",
    "Caso 2\n",
    "n^0 \n",
    "\n",
    "# -T(n) = 3T(n/4)+ n lg(n)\n",
    "a = 3 , b = 4\n",
    "O(nlg(n)) → n lg(n)\n",
    "n^log_4_3 → 2 log _3_2\n",
    "\n",
    "\n",
    "caso 1\n",
    "\n",
    "\n",
    "n lg(n) → 2 log _3_2\n",
    "\n"
   ]
  }
 ],
 "metadata": {
  "language_info": {
   "name": "python"
  }
 },
 "nbformat": 4,
 "nbformat_minor": 2
}
