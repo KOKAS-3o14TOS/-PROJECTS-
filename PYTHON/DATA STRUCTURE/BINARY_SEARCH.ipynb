{
 "cells": [
  {
   "cell_type": "markdown",
   "metadata": {},
   "source": [
    "# Binary Search \n",
    "Python Program for Binary Search Recursive and Iterative\n",
    "By  Container: GeeksforGeeks Publisher: GeeksforGeeks Year: 2014 URL: \n",
    "https://www.geeksforgeeks.org/python-program-for-binary-search/ \n",
    "\n",
    "Khan Academy. (2023). Khanacademy.org. https://es.khanacademy.org/computing/computer-science/algorithms/binary-search/a/binary-search\n",
    "\n",
    "‌\n",
    "\n",
    "### Recursive \n",
    "The process in which a function calls itself directly or indirectly is called recursion and the corresponding function is called a recursive function.\n",
    "\n",
    "1. Compare x with the middle element.\n",
    "2. If x matches with the middle element, we return the mid index.\n",
    "3. Else if x is greater than the mid element, then x can only lie in the right (greater) half subarray after the mid element. Then we apply the algorithm again for the right half. \n",
    "4. Else if x is smaller, the target x must lie in the left (lower) half. So we apply the algorithm for the left half.\n",
    "\n",
    "<img src=\"IMG/BS.png\">\n",
    "\n",
    "Time Complexity → O(log n)\n",
    "Prueba con induccion matimatica para binary search \n",
    "\n",
    "DEMOSTRACIONES \n",
    "Predicado -- Pn debe que busqueda binaria  complexity es o(lg n)\n",
    "Caso Base -- n 1 checar si el elemento es uno, o 0\n",
    "Probamos -- P(1) , lg 1, lg 0, lg c\n",
    "Induccion  -- asummir que P n y demostrar que P 2n\n",
    "Trabajo total -- buscar el arreglo de 2n, probar n+1\n",
    "        Dividir en dos el arreglo más la busqueda -- O 1 + O lg n \n",
    "        O lg2n -- lg 2n-- lg 2 + lg n, 1 + lg n-- O 1 + O lg n \n",
    "\n",
    "\n"
   ]
  },
  {
   "cell_type": "code",
   "execution_count": 4,
   "metadata": {},
   "outputs": [],
   "source": [
    "\n",
    "\n",
    "def BS(LIST,LOW,HIGH,FIND):\n",
    "    \n",
    "    MIDLE = (LOW+HIGH)//2 \n",
    "\n",
    "\n",
    "    if HIGH >= LOW:\n",
    "\n",
    "        if LIST[MIDLE] == FIND:\n",
    "                print('Value → ',LIST[MIDLE],' Index → ',MIDLE)\n",
    "                return LIST[MIDLE],MIDLE\n",
    "        \n",
    "        elif LIST[MIDLE]>FIND:\n",
    "             return BS(LIST,LOW,MIDLE-1,FIND)\n",
    "\n",
    "        else :\n",
    "              return BS(LIST,MIDLE+1,HIGH,FIND)\n",
    "\n",
    "    else:\n",
    "        print('¡¡¡ Item not found, try with other item !!! ')\n",
    "        return -1\n",
    "        \n",
    "\n"
   ]
  },
  {
   "cell_type": "code",
   "execution_count": 24,
   "metadata": {},
   "outputs": [
    {
     "name": "stdout",
     "output_type": "stream",
     "text": [
      "Value →  2  Index →  0\n"
     ]
    }
   ],
   "source": [
    "# The list need to be sort \n",
    "\n",
    "LIST = [ 2, 3, 4, 10, 40 ]\n",
    "FIND = 2\n",
    "\n",
    "VALUE,INDEX = BS(LIST,0,len(LIST)-1,FIND)\n",
    "\n"
   ]
  }
 ],
 "metadata": {
  "kernelspec": {
   "display_name": "Python 3",
   "language": "python",
   "name": "python3"
  },
  "language_info": {
   "codemirror_mode": {
    "name": "ipython",
    "version": 3
   },
   "file_extension": ".py",
   "mimetype": "text/x-python",
   "name": "python",
   "nbconvert_exporter": "python",
   "pygments_lexer": "ipython3",
   "version": "3.11.6"
  }
 },
 "nbformat": 4,
 "nbformat_minor": 2
}
