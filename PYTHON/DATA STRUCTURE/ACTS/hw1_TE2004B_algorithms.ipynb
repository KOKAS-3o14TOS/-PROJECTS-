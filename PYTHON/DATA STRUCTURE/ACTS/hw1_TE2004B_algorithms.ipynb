{
 "cells": [
  {
   "cell_type": "markdown",
   "id": "5880d511",
   "metadata": {},
   "source": [
    "##  TE2004B\n",
    "### Algorithms AD2023\n",
    "### Recursion revision\n",
    "## Jorge Martínez López\n",
    "## A01704518\n",
    "Objetive: \n",
    "- **To review recursive algorithms.**\n",
    "\n",
    "\n",
    "Intructions:\n",
    "- **Code and test the following algorithms, you may use the provided test array or any other. They have to be implemented recursively, otherwise no marks will be assigned. You may asumme that your algorithms will only work with positive integers.**"
   ]
  },
  {
   "cell_type": "code",
   "execution_count": 14,
   "id": "997d02c7",
   "metadata": {},
   "outputs": [
    {
     "name": "stdout",
     "output_type": "stream",
     "text": [
      "[53, 87, 15]\n"
     ]
    }
   ],
   "source": [
    "import random\n",
    "test_array = [random.randint(0, 100) for _ in range(3)]\n",
    "print(test_array)\n"
   ]
  },
  {
   "cell_type": "markdown",
   "id": "c02e779b",
   "metadata": {},
   "source": [
    "### Recursive sum"
   ]
  },
  {
   "cell_type": "code",
   "execution_count": 16,
   "id": "bad69ff4",
   "metadata": {},
   "outputs": [],
   "source": [
    "def sumar(lista):\n",
    "    # cuenta la lista si es igual 1\n",
    "    if len(lista) == 1:  #  Cunado sea eñ ultimo elemento devuelve el valor de la lista[0], ya que se guardo todos lo valores en esa localidad\n",
    "        return lista[0]\n",
    "    else:\n",
    "        # Recorre la lista y cada [0] es cada elmento de la lista\n",
    "        return lista[0]+sumar(lista[1:]) #guarda en lista[0] todos los elemntos de la lista\n",
    "print(sumar(test_array))   \n"
   ]
  },
  {
   "cell_type": "markdown",
   "id": "5b6c1fa9",
   "metadata": {},
   "source": [
    "### Recursive sum TEACHER"
   ]
  },
  {
   "cell_type": "code",
   "execution_count": 17,
   "id": "1eaf0708",
   "metadata": {},
   "outputs": [
    {
     "name": "stdout",
     "output_type": "stream",
     "text": [
      "53\n",
      "87\n",
      "15\n",
      "155\n"
     ]
    }
   ],
   "source": [
    "def sum_recur(arr):\n",
    "    if len(arr) == 0: return 0 # El profesor devuelve el todal cuando ya se halla recorrido todo los elemento \n",
    "    else: return arr[0] + sum_recur(arr[1:]) # Esta es lo mismo pero cambia el nombre de las variables\n",
    "print(sum_recur(test_array))  "
   ]
  },
  {
   "cell_type": "markdown",
   "id": "d74a3e5f",
   "metadata": {},
   "source": [
    "### Recusive multiplication"
   ]
  },
  {
   "cell_type": "code",
   "execution_count": 50,
   "id": "f35763b8",
   "metadata": {},
   "outputs": [
    {
     "name": "stdout",
     "output_type": "stream",
     "text": [
      "20\n"
     ]
    }
   ],
   "source": [
    "  \n",
    "def multiplication(a,b,total):\n",
    "    if a == 0:\n",
    "        return total\n",
    "    elif a==0 or b==0:\n",
    "        return 0\n",
    "    total+=b\n",
    "    return multiplication(a-1,b,total)\n",
    "\n",
    "a=5\n",
    "b=4\n",
    "total = 0 \n",
    "print(multiplication(a,b,total))"
   ]
  },
  {
   "cell_type": "markdown",
   "metadata": {},
   "source": [
    "### Recusive multiplication TEACHER"
   ]
  },
  {
   "cell_type": "code",
   "execution_count": 18,
   "id": "7f00346f",
   "metadata": {},
   "outputs": [
    {
     "name": "stdout",
     "output_type": "stream",
     "text": [
      "9\n"
     ]
    }
   ],
   "source": [
    "def mult_recur(a, b):\n",
    "    if b == 1: return a\n",
    "    elif b == 0 or a == 0: return 0\n",
    "    else: \n",
    "        if b < 0 and a > 0:\n",
    "            \n",
    "            return b + mult_recur(b, a-1)\n",
    "        elif b < 0 and a < 0: return abs(a) + mult_recur(abs(a), abs(b)-1)\n",
    "        return a + mult_recur(a, b-1)\n",
    "a=3\n",
    "b=3\n",
    "print(mult_recur(a,b))"
   ]
  },
  {
   "cell_type": "markdown",
   "id": "478a49f1",
   "metadata": {},
   "source": [
    "### Recursive exp"
   ]
  },
  {
   "cell_type": "code",
   "execution_count": 65,
   "id": "06c04ab2",
   "metadata": {},
   "outputs": [
    {
     "name": "stdout",
     "output_type": "stream",
     "text": [
      "1   0\n",
      "0   2.718281828459045\n",
      "3.718281828459045\n"
     ]
    }
   ],
   "source": [
    "l=0\n",
    "i=1\n",
    "import math as mat\n",
    "\n",
    "def exponential1(I,L):\n",
    "    if I < 0:\n",
    "        return L # Devuelve la suma total del calculo exponencial de 0 a 10\n",
    "    else:\n",
    "       print(I,' ', L)\n",
    "       L+=mat.exp(I)\n",
    "       return exponential1(I-1,L)\n",
    "print(exponential1(i,l))  # Te regresa lista elevado cada elemento a su indice"
   ]
  },
  {
   "cell_type": "markdown",
   "id": "daa7788f",
   "metadata": {},
   "source": [
    "### Recursive exp TEACHER"
   ]
  },
  {
   "cell_type": "code",
   "execution_count": 63,
   "id": "dc08fdd7",
   "metadata": {},
   "outputs": [
    {
     "name": "stdout",
     "output_type": "stream",
     "text": [
      "3\n"
     ]
    }
   ],
   "source": [
    "\n",
    "def exp_recursive(a, n):\n",
    "    if n == 0: return 1\n",
    "    else:\n",
    "        aux = a * exp_recursive(a, abs(n)-1) # es la misma función return exponential1(I-1,L)\n",
    "        if n<0: return 1/aux\n",
    "        return aux\n",
    "print(exp_recursive(3,1)) "
   ]
  },
  {
   "cell_type": "markdown",
   "id": "45b18f9e",
   "metadata": {},
   "source": [
    "### Factorial"
   ]
  },
  {
   "cell_type": "code",
   "execution_count": 69,
   "id": "7580ef2c",
   "metadata": {},
   "outputs": [
    {
     "name": "stdout",
     "output_type": "stream",
     "text": [
      "10\n",
      "9\n",
      "8\n",
      "7\n",
      "6\n",
      "5\n",
      "4\n",
      "3\n",
      "2\n",
      "1\n"
     ]
    },
    {
     "data": {
      "text/plain": [
       "3628800"
      ]
     },
     "execution_count": 69,
     "metadata": {},
     "output_type": "execute_result"
    }
   ],
   "source": [
    "numero=10\n",
    "total=1\n",
    "def factorial(numero,total):\n",
    "    if numero==1: # El numero no puede ser 0 ya que todo multiplicado por 0 es 0\n",
    "        print(numero)\n",
    "        return total\n",
    "    else:\n",
    "        print(numero)\n",
    "        total*=numero # lo guarde en total la mutiplicacion de todos los elementos\n",
    "        return factorial(numero-1,total)\n",
    "        \n",
    "factorial(numero,total)\n",
    "    \n"
   ]
  },
  {
   "cell_type": "markdown",
   "id": "1f0c96a9",
   "metadata": {},
   "source": [
    "### Factorial TEACHER"
   ]
  },
  {
   "cell_type": "code",
   "execution_count": 67,
   "id": "c216171b",
   "metadata": {},
   "outputs": [
    {
     "data": {
      "text/plain": [
       "3628800"
      ]
     },
     "execution_count": 67,
     "metadata": {},
     "output_type": "execute_result"
    }
   ],
   "source": [
    "def factorial1(n):\n",
    "    if n < 2: return 1 # Tengo esta condicionas if numero==1\n",
    "    else: return n*factorial1(n-1)\n",
    "factorial1(10)"
   ]
  },
  {
   "cell_type": "markdown",
   "id": "f4c182c8",
   "metadata": {},
   "source": [
    "### Binary search"
   ]
  },
  {
   "cell_type": "code",
   "execution_count": 13,
   "id": "17eeb7a0",
   "metadata": {},
   "outputs": [
    {
     "name": "stdout",
     "output_type": "stream",
     "text": [
      "target:  6 encontrado en el index 5\n"
     ]
    }
   ],
   "source": [
    "def binary_search(array, target, izq, der):\n",
    "    if izq <= der:\n",
    "        media = izq + (der - izq) // 2  # calcula el index de medio\n",
    "        if array[media] == target:\n",
    "            print(\"target: \",target,\"encontrado en el index\",media)  # encuentra el index \n",
    "        elif array[media] < target:\n",
    "            return binary_search(array, target, media + 1, der)  # buscar a la derecha\n",
    "        elif array[media]==-1:\n",
    "            print(f\"Target {target} no encontrado en el arreglo\")\n",
    "        else:\n",
    "            return binary_search(array, target, izq, media - 1)  # buscar a la izquierda\n",
    "\n",
    "    return -1  # si no se encuentra\n",
    "\n",
    "# Example usage:\n",
    "lista = [1, 2, 3, 4, 5, 6, 7, 8, 9]\n",
    "target = 6\n",
    "result = binary_search(lista, target, 0, len(lista) - 1)\n",
    "\n"
   ]
  },
  {
   "cell_type": "markdown",
   "id": "b99b0396",
   "metadata": {},
   "source": [
    "### Binary search TEACHER"
   ]
  },
  {
   "cell_type": "code",
   "execution_count": null,
   "id": "cb9fd338",
   "metadata": {},
   "outputs": [],
   "source": [
    "def binary_search_recur(a, arr, low=None, high=None):\n",
    "    if low == None:\n",
    "        low = 0\n",
    "        high = len(arr) - 1    \n",
    "    if len(arr) == 0: \n",
    "        return False\n",
    "    elif low == high: \n",
    "        return arr[low] == a\n",
    "    else:\n",
    "        mid = (low + high) // 2\n",
    "        if arr[mid] == a: \n",
    "            return True\n",
    "        if arr[mid] > a:\n",
    "            high = mid\n",
    "        else:\n",
    "            low = mid + 1\n",
    "        return binary_search_recur(a, arr, low, high) "
   ]
  },
  {
   "cell_type": "markdown",
   "id": "6ca63cb7",
   "metadata": {},
   "source": [
    "### Greatest Common Divisor"
   ]
  },
  {
   "cell_type": "code",
   "execution_count": 73,
   "id": "0a1556bf",
   "metadata": {},
   "outputs": [
    {
     "name": "stdout",
     "output_type": "stream",
     "text": [
      "NUMERO PRIMO:  2\n",
      "NUMERO PRIMO:  2\n",
      "NUMERO PRIMO:  5\n",
      "NUMERO PRIMO:  5\n",
      "100\n"
     ]
    }
   ],
   "source": [
    "# VARIABLES \n",
    "a = 100 \n",
    "registro=1 # Registro \n",
    "primo=[2,3,5,7,11,13,17,23,31,37] # Función del trabajo 3\n",
    "\n",
    "\n",
    "def MCD1(PRIMO,A,REGISTRO):\n",
    "    if len(PRIMO)==1 or A<PRIMO[0]: # si el primo es menor al elemento y si la cantidad de elementos del primo es igual a 1\n",
    "        return REGISTRO\n",
    "    elif A%PRIMO[0] == 0 :\n",
    "        A=A/PRIMO[0] # si es divisible se mutiplica el elemento y se suman \n",
    "        REGISTRO=PRIMO[0]*REGISTRO\n",
    "        print('NUMERO PRIMO: ',PRIMO[0])\n",
    "        return MCD1(PRIMO,A,REGISTRO)\n",
    "    else:\n",
    "        return MCD1(PRIMO[1:],A,REGISTRO)\n",
    "    \n",
    "\n",
    "# RESULTADO \n",
    "print(MCD1(primo,a,registro))\n",
    "\n",
    "\n"
   ]
  },
  {
   "cell_type": "markdown",
   "id": "52a0b38e",
   "metadata": {},
   "source": [
    "### Greatest Common Divisor TEACHER"
   ]
  },
  {
   "cell_type": "code",
   "execution_count": 77,
   "id": "feefd2d1",
   "metadata": {},
   "outputs": [
    {
     "name": "stdout",
     "output_type": "stream",
     "text": [
      "1\n"
     ]
    }
   ],
   "source": [
    "\n",
    "def gcd(a, b):\n",
    "    if a%b == 0: return b\n",
    "    else: return gcd(b, a%b)\n",
    "\n"
   ]
  }
 ],
 "metadata": {
  "kernelspec": {
   "display_name": "Python 3 (ipykernel)",
   "language": "python",
   "name": "python3"
  },
  "language_info": {
   "codemirror_mode": {
    "name": "ipython",
    "version": 3
   },
   "file_extension": ".py",
   "mimetype": "text/x-python",
   "name": "python",
   "nbconvert_exporter": "python",
   "pygments_lexer": "ipython3",
   "version": "3.11.5"
  },
  "toc": {
   "base_numbering": 1,
   "nav_menu": {},
   "number_sections": true,
   "sideBar": true,
   "skip_h1_title": false,
   "title_cell": "Table of Contents",
   "title_sidebar": "Contents",
   "toc_cell": false,
   "toc_position": {},
   "toc_section_display": true,
   "toc_window_display": false
  },
  "varInspector": {
   "cols": {
    "lenName": 16,
    "lenType": 16,
    "lenVar": 40
   },
   "kernels_config": {
    "python": {
     "delete_cmd_postfix": "",
     "delete_cmd_prefix": "del ",
     "library": "var_list.py",
     "varRefreshCmd": "print(var_dic_list())"
    },
    "r": {
     "delete_cmd_postfix": ") ",
     "delete_cmd_prefix": "rm(",
     "library": "var_list.r",
     "varRefreshCmd": "cat(var_dic_list()) "
    }
   },
   "types_to_exclude": [
    "module",
    "function",
    "builtin_function_or_method",
    "instance",
    "_Feature"
   ],
   "window_display": false
  }
 },
 "nbformat": 4,
 "nbformat_minor": 5
}
