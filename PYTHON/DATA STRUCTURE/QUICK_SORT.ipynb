{
 "cells": [
  {
   "cell_type": "markdown",
   "metadata": {},
   "source": [
    "# QUICK SORT\n",
    "Code, C. (2022). Quick Sort | Ordenamiento Rápido | Explicado con Cartitas! [YouTube Video]. In YouTube. https://www.youtube.com/watch?v=UrPJLhKF1jY&t=235s\n",
    "\n",
    "Python Program for QuickSort. (2014, January 7). GeeksforGeeks; GeeksforGeeks. https://www.geeksforgeeks.org/python-program-for-quicksort/\n",
    "\n",
    "‌\n",
    "‌### QuickSort\n",
    "It picks an element as a pivot and partitions the given array around the picked pivot.\n",
    "\n",
    "There are many different versions of quickSort that pick pivot in different ways. \n",
    "\n",
    "1. Always pick the first element as a pivot\n",
    "2. Always pick the last element as a pivot\n",
    "3. Pick a random element as a pivot\n",
    "4. Pick median as a pivot\n",
    "\n",
    "Here we will be picking the last element as a pivot. The key process in quickSort is partition(). Target of partitions is, given an array and an element ‘x’ of array as a pivot, put x at its correct position in a sorted array and put all smaller elements (smaller than x) before x, and put all greater elements (greater than x) after x. All this should be done in linear time. "
   ]
  },
  {
   "cell_type": "code",
   "execution_count": 24,
   "metadata": {},
   "outputs": [
    {
     "name": "stdout",
     "output_type": "stream",
     "text": [
      "[4, 7, 5, 3, 6, 6, 8, 9]\n"
     ]
    }
   ],
   "source": [
    "'''\n",
    "Base case n=0 or n=1\n",
    "\n",
    "El peor caso cuando el pivot no agarre el primero y el ultimo, y la lista ya viene ordenada \n",
    "\n",
    "Mediana del primero, ultimo y medio, será nuestro pivot\n",
    "\n",
    "[3,2,1,5]\n",
    "stack - pivot\n",
    "\n",
    "sub lista mayor y menor al pivot, todas las listas concatenadas \n",
    "\n",
    "elegir el pivot \n",
    "'''\n",
    "\n",
    "\n",
    "# Compared the list with the pivot \n",
    "def PARTITION(LIST,LOW,HIGH):\n",
    "     # pointer for greater element\n",
    "    i=LOW-1\n",
    "    # traverse through all elements\n",
    "    # compare each element with pivot\n",
    "    for SWAP in range(LOW,HIGH):\n",
    "         # choose the rightmost element as pivot\n",
    "        PIVOT = HIGH\n",
    "        if LIST[SWAP] < LIST[PIVOT]:\n",
    "            # If element smaller than pivot is found\n",
    "            # swap it with the greater element pointed by i\n",
    "            i+=1\n",
    "            # Swapping element at i with element at SWAP\n",
    "            (LIST[i],LIST[SWAP]) = (LIST[SWAP],LIST[i])\n",
    "            # Swap the pivot element with the greater element specifie\n",
    "    (LIST[i+1],LIST[HIGH]) = (LIST[HIGH],LIST[i+1])\n",
    "    # Return the position from where partition is done\n",
    "    return i+1\n",
    "\n",
    "def QS(LIST,LOW=-1,HIGH=(len(LIST)-1)):\n",
    "    if LOW < HIGH:\n",
    "        # Find pivot element such that\n",
    "        # element smaller than pivot are on the left\n",
    "        # element greater than pivot are on the right\n",
    "        pivot=PARTITION(LIST,LOW,HIGH)\n",
    "        # Recursive call on the left of pivot\n",
    "        QS(LIST,LOW,pivot-1)\n",
    "        # Recursive call on the right of pivot\n",
    "        QS(LIST,pivot+1,HIGH)\n",
    "\n",
    "        \n",
    "LIST=[5,3,7,6,8,4,9,6]    \n",
    "QS(LIST)\n",
    "print(LIST)"
   ]
  }
 ],
 "metadata": {
  "kernelspec": {
   "display_name": "Python 3",
   "language": "python",
   "name": "python3"
  },
  "language_info": {
   "codemirror_mode": {
    "name": "ipython",
    "version": 3
   },
   "file_extension": ".py",
   "mimetype": "text/x-python",
   "name": "python",
   "nbconvert_exporter": "python",
   "pygments_lexer": "ipython3",
   "version": "3.11.6"
  }
 },
 "nbformat": 4,
 "nbformat_minor": 2
}
