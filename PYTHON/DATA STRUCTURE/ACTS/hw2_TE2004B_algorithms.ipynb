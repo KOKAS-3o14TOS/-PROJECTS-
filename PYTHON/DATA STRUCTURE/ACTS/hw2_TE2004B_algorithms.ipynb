{
  "cells": [
    {
      "cell_type": "markdown",
      "id": "5880d511",
      "metadata": {
        "id": "5880d511"
      },
      "source": [
        "##  TE2004B\n",
        "### Algorithms AD2023\n",
        "### Sorting algorithms revision\n",
        "\n",
        "### Team Members:\n",
        "- Alain Vicencio A01620758\n",
        "- Fernando Matute A00833375\n",
        "- Jorge Martínez A01704518\n",
        "- Ricardo Navarro A01708825\n",
        "\n",
        "Objetive:\n",
        "- **To review sorting algorithms.**\n",
        "\n",
        "Instructions:\n",
        "- **Submission: This activity requires submission in teams of 3 or 4 members. Submissions from smaller or larger teams will not be accepted unless prior approval has been granted. While teamwork is encouraged, each member is expected to contribute individually to the assignment. The final submission should feature the best arguments and solutions from each team member. Only one person per team needs to submit the completed work, but it is imperative that the names of all team members are listed in a Markdown cell at the very beginning of the notebook (either the first or second cell). Failure to include all team member names will result in the grade being awarded solely to the individual who submitted the assignment, with zero points given to other team members. No exceptions will be made to this rule.**\n",
        "<br>\n",
        "\n",
        "- **Using pen and paper, solve problems 2.1 to 2.3. Take pictures of your proofs and upload them together with the coding problems.**\n",
        "<br>\n",
        "\n",
        "- **Code and test the algorithms in problems 2.4 to 2.8, you may use the provided test array or any other. You may asumme that your algorithms will only work with positive integers. Add a cell where you compare your algorithm against the provided solution.**\n",
        "<br>\n",
        "\n",
        "- **Submit your Jupyter Notebook with your solutions. You may include include additional photographs of you pen and paper solutions.  Where appropriate, your submission should include well-commented code and Markdown cells that provide a comparison between your solution and the one provided.**"
      ]
    },
    {
      "cell_type": "code",
      "execution_count": null,
      "id": "997d02c7",
      "metadata": {
        "id": "997d02c7"
      },
      "outputs": [],
      "source": [
        "import random\n",
        "test_array = [random.randint(0, 100) for _ in range(10)]"
      ]
    },
    {
      "cell_type": "markdown",
      "id": "c02e779b",
      "metadata": {
        "id": "c02e779b"
      },
      "source": [
        "### 2.1 Proof the following identity using math induction"
      ]
    },
    {
      "cell_type": "markdown",
      "id": "1eecc80b",
      "metadata": {
        "id": "1eecc80b"
      },
      "source": [
        "$$ \\sum_{i=0}^{n}{2^i}\\: = \\: 2^{n+1} \\: - \\: 1$$\n",
        "\n",
        "\n",
        "##### Let $P(n)$ be $ \\sum_{i=0}^{n}{2^i}\\: = \\: 2^{n+1} \\: - \\: 1$\n",
        "\n",
        "###### Base case:\n",
        "\n",
        "$n = 0$\n",
        "\n",
        "$$ \\sum_{i=0}^{0}{2^i}\\: = \\: 2^{0+1} \\: - \\: 1$$\n",
        "\n",
        "$$2^{0} \\: = 2^{1} - \\: 1$$\n",
        "\n",
        "$$1 \\: = 2 - \\: 1$$\n",
        "\n",
        "$$1 \\: = 1$$\n",
        "\n",
        "###### Induction Step\n",
        "\n",
        "Assume $P(n)$ is $T$ for ind. proof\n",
        "\n",
        "show $ P(n) \\rightarrow P(n+1)$ is $T$\n",
        "\n",
        "show $$ \\sum_{i=0}^{n+1}{2^i}\\: = \\: 2^{(n+1)+1} \\: - \\: 1$$\n",
        "\n",
        "Develop:\n",
        "\n",
        "\n",
        "$$ \\sum_{i=0}^{n}{2^i} + \\: 2^{n+1} \\: = \\: 2^{n+1} \\: - \\: 1 + \\: 2^{n+1}$$\n",
        "\n",
        "$$ = \\: 2^{n+1} + \\: 2^{n+1} - \\: 1$$\n",
        "\n",
        "$$ = \\: (2^{n+1}\\times{2}) - \\: 1$$\n",
        "\n",
        "$$ = \\: 2^{n+1+1} - \\: 1$$\n",
        "\n",
        "$$ = \\: 2^{n+2} - \\: 1$$\n",
        "\n",
        "\n",
        "and as we see, using induction step, we validate that $ P(n) \\rightarrow P(n+1)$ is $T$"
      ]
    },
    {
      "cell_type": "markdown",
      "id": "bda2be88",
      "metadata": {
        "id": "bda2be88"
      },
      "source": [
        "### 2.2 Use Math induction to prove that the asymptotic complexity of Merge Sort is:\n",
        "$$O(nlgn)$$\n",
        "hint: instead of proving for $n\\:+\\:1$, show it for $2n$"
      ]
    },
    {
      "cell_type": "markdown",
      "id": "0b114bd2",
      "metadata": {
        "id": "0b114bd2"
      },
      "source": [
        "### 2.3 Starting from a recursive expression (you may assume perfectly balanced partitions), solve the expression to show that in the average case the complexity for Quicksort is:\n",
        "$$O(nlgn)$$"
      ]
    },
    {
      "cell_type": "markdown",
      "id": "299f2ff1",
      "metadata": {},
      "source": [
        "##### In the first case we explained and proved with induction mathematics the next expression:\n",
        "$$ \\sum_{i=0}^{n}{2^i}\\: = \\: 2^{n+1} \\: - \\: 1$$\n",
        "\n",
        "##### Now we know that the expresion is true \n",
        "$$T(n)=O(nlgn)$$\n",
        "\n",
        "##### So we need to prove with induction math the next expression\n",
        "Assume $P(n)$ is $T$ for ind. proof\n",
        "show $ P(2n) \\rightarrow O(2nlg2n)$ is $T(2n)$ \n",
        "### Hypotesis\n",
        "$$ T(n) = T(n/2) + T(n/2) + (n-1) $$\n",
        "$$ T(n) = 2T(n/2)+n-1 $$\n",
        "\n",
        "### Base case\n",
        "$$ T(n) \\rightarrow n=1 $$\n",
        "$$ T(1) = O(1) $$\n",
        "##### We know \n",
        "$$ P(n) \\rightarrow T(n) = O(nlgn)$$ \n",
        "##### Assume n = 2n in 2T(n/2)+n-1\n",
        "$$ T(2n) \\rightarrow 2T(n/2)+n-1 \\rightarrow 2T(n)+2n-1 = 2T(n)+2n $$ \n",
        "$$ 2T(n)+2n \\rightarrow 2logn +2n $$\n",
        "##### Properties of the algorithms \n",
        "$$ 2nlogn+2n = 2nlog(2n) $$ \n",
        "##### Factor the number two\n",
        "$$ 2(nlogn+n) = 2(nlog(2n)) \\rightarrow (nlogn+n) = (nlog(2n)) $$\n",
        "##### Factor \"n\"\n",
        "$$ n(logn+1) = nlog(2n) \\rightarrow (logn+1) = log(2n) $$\n",
        "##### Properties of the algorithms \n",
        "$$ (logn+1) = log(2n) \\rightarrow logn+1 = log(2) + log(n) $$ \n",
        "$$ logn+1 = log(2) + log(n)  \\rightarrow log(n)+1 = log(n)+1 $$ \n",
        "\n",
        "## T(n) is same than T(2n) → log(n)+1 = log(n)+1"
      ]
    },
    {
      "cell_type": "markdown",
      "id": "d74a3e5f",
      "metadata": {
        "id": "d74a3e5f"
      },
      "source": [
        "### 2.4 Bubble sort"
      ]
    },
    {
      "cell_type": "code",
      "execution_count": 1,
      "id": "05fbdc3e",
      "metadata": {
        "colab": {
          "base_uri": "https://localhost:8080/"
        },
        "id": "05fbdc3e",
        "outputId": "91ddef7c-197a-4942-e046-5b7b9f320004"
      },
      "outputs": [
        {
          "name": "stdout",
          "output_type": "stream",
          "text": [
            "Unsorted Array: [64, 25, 12, 22, 11]\n",
            "Sorted array: [11, 12, 22, 25, 64]\n"
          ]
        }
      ],
      "source": [
        "def bubble_sort(arr, n):\n",
        "    # Base case: If there's only one element or the list is empty,\n",
        "    # it's already sorted.\n",
        "    if n <= 1:\n",
        "        return\n",
        "    # One pass of bubble sort to move the largest element to the end.\n",
        "    for i in range(n - 1):\n",
        "        if arr[i] > arr[i + 1]:\n",
        "            arr[i], arr[i + 1] = arr[i + 1], arr[i]\n",
        "\n",
        "    # Recursively sort the remaining elements.\n",
        "    bubble_sort(arr, n - 1)\n",
        "\n",
        "# Example:\n",
        "arr = [64, 25, 12, 22, 11]\n",
        "print(\"Unsorted Array:\", arr)\n",
        "bubble_sort(arr, len(arr))\n",
        "\n",
        "print(\"Sorted array:\", arr)"
      ]
    },
    {
      "cell_type": "markdown",
      "id": "478a49f1",
      "metadata": {
        "id": "478a49f1"
      },
      "source": [
        "Comparison with the code provided by the teacher:\n",
        "\n",
        "The main difference we could see between the two solutions is the arguments that the function would receive, being in our case one more argument than on his. But that, because in the rest of the code, we can see the code is almost the same.\n",
        "\n",
        "### 2. 5 Selection sort"
      ]
    },
    {
      "cell_type": "code",
      "execution_count": null,
      "id": "62c76add",
      "metadata": {
        "colab": {
          "base_uri": "https://localhost:8080/"
        },
        "id": "62c76add",
        "outputId": "fb0cbb89-33d6-42ef-a19d-68a990044a47"
      },
      "outputs": [
        {
          "name": "stdout",
          "output_type": "stream",
          "text": [
            "Unsorted array:  [64, 25, 12, 22, 12]\n",
            "Sorted array: [12, 12, 22, 25, 64]\n"
          ]
        }
      ],
      "source": [
        "def selection_sort(arr):\n",
        "    # Obtain the length of the array\n",
        "    n = len(arr)\n",
        "\n",
        "    for i in range(n):\n",
        "        # Find the minimum element in the unsorted array\n",
        "        min_index = i\n",
        "        for j in range(i + 1, n):\n",
        "            if arr[j] < arr[min_index]:\n",
        "                min_index = j\n",
        "\n",
        "        # Swap the found minimum element with the first element in the array\n",
        "        arr[i], arr[min_index] = arr[min_index], arr[i]\n",
        "\n",
        "# Example:\n",
        "arr = [64, 25, 12, 22, 12]\n",
        "print(\"Unsorted array: \", arr)\n",
        "\n",
        "selection_sort(arr)\n",
        "print(\"Sorted array:\", arr)"
      ]
    },
    {
      "cell_type": "markdown",
      "id": "45b18f9e",
      "metadata": {
        "id": "45b18f9e"
      },
      "source": [
        "Comparison with the code provided by the teacher:\n",
        "\n",
        "Both codes are basically the same, the only difference is that our code is a little bit more explicit than the one provided by the professor.\n",
        "\n",
        "### 2. 6 Insertion sort"
      ]
    },
    {
      "cell_type": "code",
      "execution_count": null,
      "id": "7580ef2c",
      "metadata": {
        "colab": {
          "base_uri": "https://localhost:8080/"
        },
        "id": "7580ef2c",
        "outputId": "5e6d2bd6-f923-4eaa-e1c1-200ffed73124"
      },
      "outputs": [
        {
          "name": "stdout",
          "output_type": "stream",
          "text": [
            "Unsorted array:  [64, 25, 12, 22, 13]\n",
            "Sorted array: [12, 13, 22, 25, 64]\n"
          ]
        }
      ],
      "source": [
        "def insertion_sort(arr):\n",
        "  # Obtain the length of the array\n",
        "  n = len(arr)\n",
        "\n",
        "  for i in range(1, n):\n",
        "        num = arr[i]  # Element to be inserted\n",
        "        j = i - 1  # Index of the previous element\n",
        "\n",
        "        # Move elements of arr[0..i-1] that are greater than num\n",
        "        # to one position ahead of their current position\n",
        "        while j >= 0 and num < arr[j]:\n",
        "            arr[j + 1] = arr[j]\n",
        "            j -= 1\n",
        "\n",
        "        # Insert the current element at its correct position\n",
        "        arr[j + 1] = num\n",
        "\n",
        "# Example:\n",
        "arr = [64, 25, 12, 22, 12+1]\n",
        "print(\"Unsorted array: \", arr)\n",
        "\n",
        "insertion_sort(arr)\n",
        "print(\"Sorted array:\", arr)"
      ]
    },
    {
      "cell_type": "markdown",
      "id": "f4c182c8",
      "metadata": {
        "id": "f4c182c8"
      },
      "source": [
        "Comparison with the code provided by the teacher:\n",
        "\n",
        "Both codes are basically the same, the only difference is that our code is a little bit more explicit than the one provided by the professor.\n",
        "\n",
        "### 2.7 Merge sort"
      ]
    },
    {
      "cell_type": "code",
      "execution_count": null,
      "id": "5090965b",
      "metadata": {
        "colab": {
          "base_uri": "https://localhost:8080/"
        },
        "id": "5090965b",
        "outputId": "edba9728-36ab-4eef-a77a-4416f496fdf0"
      },
      "outputs": [
        {
          "name": "stdout",
          "output_type": "stream",
          "text": [
            "Unsorted array:  [64, 25, 12, 22, 14]\n",
            "Sorted array: [12, 14, 22, 25, 64]\n"
          ]
        }
      ],
      "source": [
        "def merge_sort(arr):\n",
        "    if len(arr) > 1:\n",
        "        # Find the middle of the array\n",
        "        mid = len(arr) // 2\n",
        "\n",
        "        # Split the array into two halves\n",
        "        left_half = arr[:mid]\n",
        "        right_half = arr[mid:]\n",
        "\n",
        "        # Recursively sort both halves\n",
        "        merge_sort(left_half)\n",
        "        merge_sort(right_half)\n",
        "\n",
        "        # Merge the sorted halves\n",
        "        i = j = k = 0\n",
        "\n",
        "        while i < len(left_half) and j < len(right_half):\n",
        "            if left_half[i] < right_half[j]:\n",
        "                arr[k] = left_half[i]\n",
        "                i += 1\n",
        "            else:\n",
        "                arr[k] = right_half[j]\n",
        "                j += 1\n",
        "            k += 1\n",
        "\n",
        "        # Check if any element was left\n",
        "        while i < len(left_half):\n",
        "            arr[k] = left_half[i]\n",
        "            i += 1\n",
        "            k += 1\n",
        "\n",
        "        while j < len(right_half):\n",
        "            arr[k] = right_half[j]\n",
        "            j += 1\n",
        "            k += 1\n",
        "\n",
        "# Example:\n",
        "arr = [64, 25, 12, 22, 14]\n",
        "print(\"Unsorted array: \", arr)\n",
        "\n",
        "merge_sort(arr)\n",
        "print(\"Sorted array:\", arr)"
      ]
    },
    {
      "cell_type": "markdown",
      "id": "6ca63cb7",
      "metadata": {
        "id": "6ca63cb7"
      },
      "source": [
        "Comparison with the code provided by the teacher:\n",
        "\n",
        "In this case, we could find one of the biggest difference, because, while we decided to implement the merge sort solution within our main function, the professor made them in two different functions.\n",
        "\n",
        "This could cause a different time complexity between both codes (not like a big difference, but still a difference).\n",
        "\n",
        "### 2.8 Quicksort"
      ]
    },
    {
      "cell_type": "code",
      "execution_count": null,
      "id": "diDzsSF8jbuA",
      "metadata": {
        "colab": {
          "base_uri": "https://localhost:8080/"
        },
        "id": "diDzsSF8jbuA",
        "outputId": "8d2775ff-3c50-4010-9846-76af04c92d27"
      },
      "outputs": [
        {
          "name": "stdout",
          "output_type": "stream",
          "text": [
            "Unsorted array:  [64, 25, 12, 22, 15]\n",
            "Sorted array: [12, 15, 22, 25, 64]\n"
          ]
        }
      ],
      "source": [
        "def quick_sort(arr):\n",
        "\tif len(arr) <= 1:\n",
        "\t\treturn arr\n",
        "\telse:\n",
        "\t\tpivot = arr[0]\n",
        "\t\tleft = [x for x in arr[1:] if x < pivot]\n",
        "\t\tright = [x for x in arr[1:] if x >= pivot]\n",
        "\t\treturn quick_sort(left) + [pivot] + quick_sort(right)\n",
        "\n",
        "# Example:\n",
        "arr = [64, 25, 12, 22, 15]\n",
        "print(\"Unsorted array: \", arr)\n",
        "\n",
        "sol = quick_sort(arr)\n",
        "print(\"Sorted array:\", sol)\n"
      ]
    },
    {
      "cell_type": "markdown",
      "id": "PnRcUxh6jbef",
      "metadata": {
        "id": "PnRcUxh6jbef"
      },
      "source": [
        "Comparison with the code provided by the teacher:\n",
        "\n",
        "Both codes are basically the same, being our main difference the name of the variables we use."
      ]
    }
  ],
  "metadata": {
    "colab": {
      "provenance": []
    },
    "kernelspec": {
      "display_name": "Python 3 (ipykernel)",
      "language": "python",
      "name": "python3"
    },
    "language_info": {
      "codemirror_mode": {
        "name": "ipython",
        "version": 3
      },
      "file_extension": ".py",
      "mimetype": "text/x-python",
      "name": "python",
      "nbconvert_exporter": "python",
      "pygments_lexer": "ipython3",
      "version": "3.11.6"
    },
    "toc": {
      "base_numbering": 1,
      "nav_menu": {},
      "number_sections": true,
      "sideBar": true,
      "skip_h1_title": false,
      "title_cell": "Table of Contents",
      "title_sidebar": "Contents",
      "toc_cell": false,
      "toc_position": {},
      "toc_section_display": true,
      "toc_window_display": false
    },
    "varInspector": {
      "cols": {
        "lenName": 16,
        "lenType": 16,
        "lenVar": 40
      },
      "kernels_config": {
        "python": {
          "delete_cmd_postfix": "",
          "delete_cmd_prefix": "del ",
          "library": "var_list.py",
          "varRefreshCmd": "print(var_dic_list())"
        },
        "r": {
          "delete_cmd_postfix": ") ",
          "delete_cmd_prefix": "rm(",
          "library": "var_list.r",
          "varRefreshCmd": "cat(var_dic_list()) "
        }
      },
      "types_to_exclude": [
        "module",
        "function",
        "builtin_function_or_method",
        "instance",
        "_Feature"
      ],
      "window_display": false
    }
  },
  "nbformat": 4,
  "nbformat_minor": 5
}
