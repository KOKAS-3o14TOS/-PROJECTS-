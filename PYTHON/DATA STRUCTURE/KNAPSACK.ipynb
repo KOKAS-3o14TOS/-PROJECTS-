{
 "cells": [
  {
   "cell_type": "markdown",
   "metadata": {},
   "source": [
    "#  KNAPSACK \n",
    "Given N items where each item has some weight and profit associated with it and also given a bag with capacity W, [i.e., the bag can hold at most W weight in it]. The task is to put the items into the bag such that the sum of profits associated with them is the maximum possible. \n",
    "\n",
    "Note: The constraint here is we can either put an item completely into the bag or cannot put it at all [It is not possible to put a part of an item into the bag].\n",
    "\n",
    "Knapsack Optimization with Python\n",
    "By APMonitor.com Container: YouTube Year: 2023 URL: https://www.youtube.com/watch?v=UB2VH9lFelY \n",
    "\n",
    "Knapsack Problem - Approach to write the code (Dynamic Programming) | GeeksforGeeks\n",
    "By GeeksforGeeks Container: YouTube Year: 2018 URL: https://www.youtube.com/watch?v=ywiH-zRH1mA"
   ]
  },
  {
   "cell_type": "markdown",
   "metadata": {},
   "source": []
  },
  {
   "cell_type": "code",
   "execution_count": null,
   "metadata": {
    "vscode": {
     "languageId": "plaintext"
    }
   },
   "outputs": [],
   "source": [
    "w=[3,2,3,1,1,11]\n",
    "v=[15,2,20,8,1,10]\n",
    "\n"
   ]
  }
 ],
 "metadata": {
  "language_info": {
   "name": "python"
  }
 },
 "nbformat": 4,
 "nbformat_minor": 2
}
